{
  "nbformat": 4,
  "nbformat_minor": 0,
  "metadata": {
    "colab": {
      "name": "Chapter5.ipynb",
      "provenance": [],
      "authorship_tag": "ABX9TyMPTc97Ud61pYX2uy+IZEWZ",
      "include_colab_link": true
    },
    "kernelspec": {
      "name": "python3",
      "display_name": "Python 3"
    }
  },
  "cells": [
    {
      "cell_type": "markdown",
      "metadata": {
        "id": "view-in-github",
        "colab_type": "text"
      },
      "source": [
        "<a href=\"https://colab.research.google.com/github/EnricoHuber/Rubbish/blob/master/Chapter5.ipynb\" target=\"_parent\"><img src=\"https://colab.research.google.com/assets/colab-badge.svg\" alt=\"Open In Colab\"/></a>"
      ]
    },
    {
      "cell_type": "markdown",
      "metadata": {
        "id": "XqjmFh12L7u0"
      },
      "source": [
        "## Support Vector Machines"
      ]
    },
    {
      "cell_type": "code",
      "metadata": {
        "id": "zpz7miCQV-zn",
        "colab": {
          "base_uri": "https://localhost:8080/"
        },
        "outputId": "fe409a55-129b-4873-99f7-22fd14995229"
      },
      "source": [
        "from sklearn.svm import SVC\r\n",
        "from sklearn import datasets\r\n",
        "\r\n",
        "iris = datasets.load_iris()\r\n",
        "X = iris[\"data\"][:, (2, 3)]  # petal length, petal width\r\n",
        "y = iris[\"target\"]\r\n",
        "\r\n",
        "setosa_or_versicolor = (y == 0) | (y == 1)\r\n",
        "X = X[setosa_or_versicolor]\r\n",
        "y = y[setosa_or_versicolor]\r\n",
        "\r\n",
        "# SVM Classifier model\r\n",
        "svm_clf = SVC(kernel=\"linear\", C=float(\"inf\"))\r\n",
        "svm_clf.fit(X, y)"
      ],
      "execution_count": 1,
      "outputs": [
        {
          "output_type": "execute_result",
          "data": {
            "text/plain": [
              "SVC(C=inf, break_ties=False, cache_size=200, class_weight=None, coef0=0.0,\n",
              "    decision_function_shape='ovr', degree=3, gamma='scale', kernel='linear',\n",
              "    max_iter=-1, probability=False, random_state=None, shrinking=True,\n",
              "    tol=0.001, verbose=False)"
            ]
          },
          "metadata": {
            "tags": []
          },
          "execution_count": 1
        }
      ]
    },
    {
      "cell_type": "code",
      "metadata": {
        "colab": {
          "base_uri": "https://localhost:8080/"
        },
        "id": "5ZX6Tsx_MWsa",
        "outputId": "ee4456c4-f520-42df-ba11-9f45dd535fd9"
      },
      "source": [
        "import numpy as np\r\n",
        "from sklearn import datasets\r\n",
        "from sklearn.pipeline import Pipeline\r\n",
        "from sklearn.preprocessing import StandardScaler\r\n",
        "from sklearn.svm import LinearSVC\r\n",
        "\r\n",
        "iris = datasets.load_iris()\r\n",
        "X = iris[\"data\"][:, (2, 3)]  # petal length, petal width\r\n",
        "y = (iris[\"target\"] == 2).astype(np.float64)  # Iris virginica\r\n",
        "\r\n",
        "svm_clf = Pipeline([\r\n",
        "        (\"scaler\", StandardScaler()),\r\n",
        "        (\"linear_svc\", LinearSVC(C=1, loss=\"hinge\", random_state=42)),\r\n",
        "    ])\r\n",
        "\r\n",
        "svm_clf.fit(X, y)"
      ],
      "execution_count": 2,
      "outputs": [
        {
          "output_type": "execute_result",
          "data": {
            "text/plain": [
              "Pipeline(memory=None,\n",
              "         steps=[('scaler',\n",
              "                 StandardScaler(copy=True, with_mean=True, with_std=True)),\n",
              "                ('linear_svc',\n",
              "                 LinearSVC(C=1, class_weight=None, dual=True,\n",
              "                           fit_intercept=True, intercept_scaling=1,\n",
              "                           loss='hinge', max_iter=1000, multi_class='ovr',\n",
              "                           penalty='l2', random_state=42, tol=0.0001,\n",
              "                           verbose=0))],\n",
              "         verbose=False)"
            ]
          },
          "metadata": {
            "tags": []
          },
          "execution_count": 2
        }
      ]
    },
    {
      "cell_type": "code",
      "metadata": {
        "colab": {
          "base_uri": "https://localhost:8080/"
        },
        "id": "xyNu-Lc8L0Yy",
        "outputId": "09722eaa-3a23-49fd-87a1-648aec3ca009"
      },
      "source": [
        "print(svm_clf.predict([[5.5, 1.7]]))"
      ],
      "execution_count": 3,
      "outputs": [
        {
          "output_type": "stream",
          "text": [
            "[1.]\n"
          ],
          "name": "stdout"
        }
      ]
    },
    {
      "cell_type": "markdown",
      "metadata": {
        "id": "80LPYFOMO-Mp"
      },
      "source": [
        "## Non linear SVM Classification"
      ]
    },
    {
      "cell_type": "code",
      "metadata": {
        "colab": {
          "base_uri": "https://localhost:8080/",
          "height": 292
        },
        "id": "5rVPw_l8PAz6",
        "outputId": "4b4defb5-1cd8-4635-bb34-b6e2c46e39e7"
      },
      "source": [
        "# We will be using the moons dataset\r\n",
        "import matplotlib.pyplot as plt\r\n",
        "from sklearn.datasets import make_moons\r\n",
        "X, y = make_moons(n_samples=100, noise=0.15, random_state=42)\r\n",
        "\r\n",
        "def plot_dataset(X, y, axes):\r\n",
        "    plt.plot(X[:, 0][y==0], X[:, 1][y==0], \"bs\")\r\n",
        "    plt.plot(X[:, 0][y==1], X[:, 1][y==1], \"g^\")\r\n",
        "    plt.axis(axes)\r\n",
        "    plt.grid(True, which='both')\r\n",
        "    plt.xlabel(r\"$x_1$\", fontsize=20)\r\n",
        "    plt.ylabel(r\"$x_2$\", fontsize=20, rotation=0)\r\n",
        "\r\n",
        "plot_dataset(X, y, [-1.5, 2.5, -1, 1.5])\r\n",
        "plt.show()"
      ],
      "execution_count": 7,
      "outputs": [
        {
          "output_type": "display_data",
          "data": {
            "image/png": "[encoded data removed]",
            "text/plain": [
              "<Figure size 432x288 with 1 Axes>"
            ]
          },
          "metadata": {
            "tags": [],
            "needs_background": "light"
          }
        }
      ]
    },
    {
      "cell_type": "code",
      "metadata": {
        "colab": {
          "base_uri": "https://localhost:8080/"
        },
        "id": "BMo3IJ1dPXbX",
        "outputId": "07f88cf7-44df-4eaf-ed26-6db3f4892b7d"
      },
      "source": [
        "from sklearn.pipeline import Pipeline\r\n",
        "from sklearn.preprocessing import PolynomialFeatures\r\n",
        "\r\n",
        "polynomial_svm_clf = Pipeline([\r\n",
        "        (\"poly_features\", PolynomialFeatures(degree=3)),\r\n",
        "        (\"scaler\", StandardScaler()),\r\n",
        "        (\"svm_clf\", LinearSVC(C=10, loss=\"hinge\", random_state=42))\r\n",
        "    ])\r\n",
        "\r\n",
        "polynomial_svm_clf.fit(X, y)"
      ],
      "execution_count": 17,
      "outputs": [
        {
          "output_type": "stream",
          "text": [
            "/usr/local/lib/python3.6/dist-packages/sklearn/svm/_base.py:947: ConvergenceWarning: Liblinear failed to converge, increase the number of iterations.\n",
            "  \"the number of iterations.\", ConvergenceWarning)\n"
          ],
          "name": "stderr"
        },
        {
          "output_type": "execute_result",
          "data": {
            "text/plain": [
              "Pipeline(memory=None,\n",
              "         steps=[('poly_features',\n",
              "                 PolynomialFeatures(degree=150, include_bias=True,\n",
              "                                    interaction_only=False, order='C')),\n",
              "                ('scaler',\n",
              "                 StandardScaler(copy=True, with_mean=True, with_std=True)),\n",
              "                ('svm_clf',\n",
              "                 LinearSVC(C=10, class_weight=None, dual=True,\n",
              "                           fit_intercept=True, intercept_scaling=1,\n",
              "                           loss='hinge', max_iter=1000, multi_class='ovr',\n",
              "                           penalty='l2', random_state=42, tol=0.0001,\n",
              "                           verbose=0))],\n",
              "         verbose=False)"
            ]
          },
          "metadata": {
            "tags": []
          },
          "execution_count": 17
        }
      ]
    },
    {
      "cell_type": "code",
      "metadata": {
        "colab": {
          "base_uri": "https://localhost:8080/",
          "height": 292
        },
        "id": "ISZXPGuNPucX",
        "outputId": "25cdb341-f73b-48a0-9c0b-6bd88a3e0747"
      },
      "source": [
        "def plot_predictions(clf, axes):\r\n",
        "    x0s = np.linspace(axes[0], axes[1], 100)\r\n",
        "    x1s = np.linspace(axes[2], axes[3], 100)\r\n",
        "    x0, x1 = np.meshgrid(x0s, x1s)\r\n",
        "    X = np.c_[x0.ravel(), x1.ravel()]\r\n",
        "    y_pred = clf.predict(X).reshape(x0.shape)\r\n",
        "    y_decision = clf.decision_function(X).reshape(x0.shape)\r\n",
        "    plt.contourf(x0, x1, y_pred, cmap=plt.cm.brg, alpha=0.2)\r\n",
        "    plt.contourf(x0, x1, y_decision, cmap=plt.cm.brg, alpha=0.1)\r\n",
        "\r\n",
        "plot_predictions(polynomial_svm_clf, [-1.5, 2.5, -1, 1.5])\r\n",
        "plot_dataset(X, y, [-1.5, 2.5, -1, 1.5])\r\n",
        "\r\n",
        "# save_fig(\"moons_polynomial_svc_plot\")\r\n",
        "plt.show()"
      ],
      "execution_count": 10,
      "outputs": [
        {
          "output_type": "display_data",
          "data": {
            "image/png": "[encoded data removed]",
            "text/plain": [
              "<Figure size 432x288 with 1 Axes>"
            ]
          },
          "metadata": {
            "tags": [],
            "needs_background": "light"
          }
        }
      ]
    },
    {
      "cell_type": "markdown",
      "metadata": {
        "id": "oJxPSKkNQdV6"
      },
      "source": [
        "## Polynomial Kernels"
      ]
    },
    {
      "cell_type": "code",
      "metadata": {
        "colab": {
          "base_uri": "https://localhost:8080/"
        },
        "id": "C1nG1fRbQhP1",
        "outputId": "dfb2a839-9d4a-4b95-e17e-b37856c5efff"
      },
      "source": [
        "from sklearn.svm import SVC\r\n",
        "\r\n",
        "poly_kernel_svm_clf = Pipeline([\r\n",
        "        (\"scaler\", StandardScaler()),\r\n",
        "        (\"svm_clf\", SVC(kernel=\"poly\", degree=3, coef0=1, C=5))\r\n",
        "    ])\r\n",
        "poly_kernel_svm_clf.fit(X, y)"
      ],
      "execution_count": 11,
      "outputs": [
        {
          "output_type": "execute_result",
          "data": {
            "text/plain": [
              "Pipeline(memory=None,\n",
              "         steps=[('scaler',\n",
              "                 StandardScaler(copy=True, with_mean=True, with_std=True)),\n",
              "                ('svm_clf',\n",
              "                 SVC(C=5, break_ties=False, cache_size=200, class_weight=None,\n",
              "                     coef0=1, decision_function_shape='ovr', degree=3,\n",
              "                     gamma='scale', kernel='poly', max_iter=-1,\n",
              "                     probability=False, random_state=None, shrinking=True,\n",
              "                     tol=0.001, verbose=False))],\n",
              "         verbose=False)"
            ]
          },
          "metadata": {
            "tags": []
          },
          "execution_count": 11
        }
      ]
    },
    {
      "cell_type": "markdown",
      "metadata": {
        "id": "YbnzQpyyUDb3"
      },
      "source": [
        "## Gaussian RBF Kernels"
      ]
    },
    {
      "cell_type": "code",
      "metadata": {
        "colab": {
          "base_uri": "https://localhost:8080/"
        },
        "id": "B3xj9yrgUHds",
        "outputId": "e5c89bb0-54a1-483b-9ff6-e2d17c4601f3"
      },
      "source": [
        "rbf_kernel_svm_clf = Pipeline([\r\n",
        "        (\"scaler\", StandardScaler()),\r\n",
        "        (\"svm_clf\", SVC(kernel=\"rbf\", gamma=5, C=0.001))\r\n",
        "    ])\r\n",
        "rbf_kernel_svm_clf.fit(X, y)"
      ],
      "execution_count": 12,
      "outputs": [
        {
          "output_type": "execute_result",
          "data": {
            "text/plain": [
              "Pipeline(memory=None,\n",
              "         steps=[('scaler',\n",
              "                 StandardScaler(copy=True, with_mean=True, with_std=True)),\n",
              "                ('svm_clf',\n",
              "                 SVC(C=0.001, break_ties=False, cache_size=200,\n",
              "                     class_weight=None, coef0=0.0,\n",
              "                     decision_function_shape='ovr', degree=3, gamma=5,\n",
              "                     kernel='rbf', max_iter=-1, probability=False,\n",
              "                     random_state=None, shrinking=True, tol=0.001,\n",
              "                     verbose=False))],\n",
              "         verbose=False)"
            ]
          },
          "metadata": {
            "tags": []
          },
          "execution_count": 12
        }
      ]
    },
    {
      "cell_type": "markdown",
      "metadata": {
        "id": "gXFz687ufe32"
      },
      "source": [
        "## SVM Regression"
      ]
    },
    {
      "cell_type": "code",
      "metadata": {
        "colab": {
          "base_uri": "https://localhost:8080/"
        },
        "id": "bZtrPx9Ufflw",
        "outputId": "8f38d842-e02a-41af-d28b-259a811b4725"
      },
      "source": [
        "# Linear SVM Regression\r\n",
        "from sklearn.svm import LinearSVR\r\n",
        "\r\n",
        "svm_reg = LinearSVR(epsilon=1.5, random_state=42)\r\n",
        "svm_reg.fit(X, y)"
      ],
      "execution_count": 14,
      "outputs": [
        {
          "output_type": "execute_result",
          "data": {
            "text/plain": [
              "LinearSVR(C=1.0, dual=True, epsilon=1.5, fit_intercept=True,\n",
              "          intercept_scaling=1.0, loss='epsilon_insensitive', max_iter=1000,\n",
              "          random_state=42, tol=0.0001, verbose=0)"
            ]
          },
          "metadata": {
            "tags": []
          },
          "execution_count": 14
        }
      ]
    },
    {
      "cell_type": "code",
      "metadata": {
        "colab": {
          "base_uri": "https://localhost:8080/"
        },
        "id": "aXZpNUUJfvBc",
        "outputId": "e6562fd1-f858-4a7b-9317-6270c711c429"
      },
      "source": [
        "# Polynomial SVM Regression\r\n",
        "from sklearn.svm import SVR\r\n",
        "\r\n",
        "svm_poly_reg = SVR(kernel=\"poly\", degree=2, C=100, epsilon=0.1, gamma=\"scale\")\r\n",
        "svm_poly_reg.fit(X, y)"
      ],
      "execution_count": 15,
      "outputs": [
        {
          "output_type": "execute_result",
          "data": {
            "text/plain": [
              "SVR(C=100, cache_size=200, coef0=0.0, degree=2, epsilon=0.1, gamma='scale',\n",
              "    kernel='poly', max_iter=-1, shrinking=True, tol=0.001, verbose=False)"
            ]
          },
          "metadata": {
            "tags": []
          },
          "execution_count": 15
        }
      ]
    }
  ]
}