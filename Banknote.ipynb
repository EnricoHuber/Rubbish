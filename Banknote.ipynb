{
  "nbformat": 4,
  "nbformat_minor": 0,
  "metadata": {
    "colab": {
      "name": "Banknote.ipynb",
      "provenance": [],
      "authorship_tag": "ABX9TyNRuP1m0gN08WKrCP/i2cQP",
      "include_colab_link": true
    },
    "kernelspec": {
      "name": "python3",
      "display_name": "Python 3"
    }
  },
  "cells": [
    {
      "cell_type": "markdown",
      "metadata": {
        "id": "view-in-github",
        "colab_type": "text"
      },
      "source": [
        "<a href=\"https://colab.research.google.com/github/EnricoHuber/Rubbish/blob/master/Banknote.ipynb\" target=\"_parent\"><img src=\"https://colab.research.google.com/assets/colab-badge.svg\" alt=\"Open In Colab\"/></a>"
      ]
    },
    {
      "cell_type": "code",
      "metadata": {
        "id": "LcDqVdK63xcL"
      },
      "source": [
        "import numpy as np\r\n",
        "import pandas as pd"
      ],
      "execution_count": 1,
      "outputs": []
    },
    {
      "cell_type": "code",
      "metadata": {
        "colab": {
          "base_uri": "https://localhost:8080/"
        },
        "id": "elNs8qSj4Iyn",
        "outputId": "c2d4cabb-a9c2-4376-9bb3-9ba85f910c63"
      },
      "source": [
        "df = pd.read_csv('/content/data_banknote_authentication.txt')\r\n",
        "print(df.head())"
      ],
      "execution_count": 2,
      "outputs": [
        {
          "output_type": "stream",
          "text": [
            "    3.6216  8.6661  -2.8073  -0.44699  0\n",
            "0  4.54590  8.1674  -2.4586  -1.46210  0\n",
            "1  3.86600 -2.6383   1.9242   0.10645  0\n",
            "2  3.45660  9.5228  -4.0112  -3.59440  0\n",
            "3  0.32924 -4.4552   4.5718  -0.98880  0\n",
            "4  4.36840  9.6718  -3.9606  -3.16250  0\n"
          ],
          "name": "stdout"
        }
      ]
    },
    {
      "cell_type": "code",
      "metadata": {
        "colab": {
          "base_uri": "https://localhost:8080/"
        },
        "id": "ewRvKC074vYW",
        "outputId": "6fce3fd0-7fb1-4797-b0b2-a309f1a0decd"
      },
      "source": [
        "X = df.iloc[:, :4].values\r\n",
        "y = df.iloc[:, 4].values\r\n",
        "print(X, type(X))\r\n",
        "print(y, type(y))"
      ],
      "execution_count": 3,
      "outputs": [
        {
          "output_type": "stream",
          "text": [
            "[[  4.5459    8.1674   -2.4586   -1.4621 ]\n",
            " [  3.866    -2.6383    1.9242    0.10645]\n",
            " [  3.4566    9.5228   -4.0112   -3.5944 ]\n",
            " ...\n",
            " [ -3.7503  -13.4586   17.5932   -2.7771 ]\n",
            " [ -3.5637   -8.3827   12.393    -1.2823 ]\n",
            " [ -2.5419   -0.65804   2.6842    1.1952 ]] <class 'numpy.ndarray'>\n",
            "[0 0 0 ... 1 1 1] <class 'numpy.ndarray'>\n"
          ],
          "name": "stdout"
        }
      ]
    },
    {
      "cell_type": "code",
      "metadata": {
        "colab": {
          "base_uri": "https://localhost:8080/"
        },
        "id": "5CDE6tqq5nha",
        "outputId": "7a4f0f13-cd2a-47a8-fb2c-cbe1c8c019b7"
      },
      "source": [
        "from sklearn.linear_model import LogisticRegression\r\n",
        "from sklearn.model_selection import train_test_split, cross_val_score\r\n",
        "\r\n",
        "\r\n",
        "\r\n",
        "X_train, X_test, y_train, y_test = train_test_split(X, y)\r\n",
        "\r\n",
        "lr = LogisticRegression(solver='liblinear')\r\n",
        "lr.fit(X_train, y_train)\r\n",
        "print('Model score:', lr.score(X_test, y_test))\r\n",
        "\r\n",
        "\r\n",
        "scores = cross_val_score(lr, X, y, scoring='f1', cv=5)\r\n",
        "print(scores, 'Model score:', np.mean(scores))"
      ],
      "execution_count": 4,
      "outputs": [
        {
          "output_type": "stream",
          "text": [
            "Model score: 0.9825072886297376\n",
            "[0.98785425 0.97925311 0.97975709 1.         0.9877551 ] Model score: 0.98692391002128\n"
          ],
          "name": "stdout"
        }
      ]
    }
  ]
}